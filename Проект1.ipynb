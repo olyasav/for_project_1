{
 "cells": [
  {
   "cell_type": "markdown",
   "metadata": {},
   "source": [
    "## Задание 1\n",
    "### Необходимо написать функцию для подсчета retention."
   ]
  },
  {
   "cell_type": "code",
   "execution_count": 16,
   "metadata": {},
   "outputs": [],
   "source": [
    "import pandas as pd\n",
    "import scipy.stats as st\n",
    "import requests\n",
    "from urllib.parse import urlencode"
   ]
  },
  {
   "cell_type": "code",
   "execution_count": 17,
   "metadata": {},
   "outputs": [],
   "source": [
    "def retention():\n",
    "    reg_data=pd.read_csv('/mnt/HC_Volume_18315164/home-jupyter/jupyter-o-savicheva/shared/problem1-reg_data.csv', sep=';')\n",
    "    auth_data=pd.read_csv('/mnt/HC_Volume_18315164/home-jupyter/jupyter-o-savicheva/shared/problem1-auth_data.csv', sep=';')\n",
    "    # переводим в формат datetime\n",
    "    reg_data['reg_ts']=pd.to_datetime(reg_data.reg_ts, unit='s')\n",
    "    auth_data['auth_ts']=pd.to_datetime(auth_data.auth_ts, unit='s')\n",
    "    # объединяем в 1 dataframe \n",
    "    total_data=reg_data.merge(auth_data, on='uid')\n",
    "    # присваиваем когорту по дню авторизации\n",
    "    total_data['cohort_day']=total_data.groupby('uid').auth_ts.transform('min').dt.to_period('D')\n",
    "    # рассчитываем номер периода\n",
    "    total_data['cohort_period']=(total_data.auth_ts-total_data.reg_ts).dt.days\n",
    "    # создаем сводную таблицу\n",
    "    cohort_data=total_data.groupby(['cohort_day','cohort_period']).uid.nunique().reset_index()\n",
    "    cogort_pivot=cohort_data.pivot(columns='cohort_period', index='cohort_day', values='uid').fillna(0)\n",
    "    cohort_size=cogort_pivot.iloc[:,0]\n",
    "    retention_matrix=cogort_pivot.divide(cohort_size, axis=0)\n",
    "    return retention_matrix"
   ]
  },
  {
   "cell_type": "code",
   "execution_count": 18,
   "metadata": {
    "scrolled": false
   },
   "outputs": [
    {
     "data": {
      "text/html": [
       "<div>\n",
       "<style scoped>\n",
       "    .dataframe tbody tr th:only-of-type {\n",
       "        vertical-align: middle;\n",
       "    }\n",
       "\n",
       "    .dataframe tbody tr th {\n",
       "        vertical-align: top;\n",
       "    }\n",
       "\n",
       "    .dataframe thead th {\n",
       "        text-align: right;\n",
       "    }\n",
       "</style>\n",
       "<table border=\"1\" class=\"dataframe\">\n",
       "  <thead>\n",
       "    <tr style=\"text-align: right;\">\n",
       "      <th>cohort_period</th>\n",
       "      <th>0</th>\n",
       "      <th>1</th>\n",
       "      <th>2</th>\n",
       "      <th>3</th>\n",
       "      <th>4</th>\n",
       "      <th>5</th>\n",
       "      <th>6</th>\n",
       "      <th>7</th>\n",
       "      <th>8</th>\n",
       "      <th>9</th>\n",
       "      <th>...</th>\n",
       "      <th>7700</th>\n",
       "      <th>7703</th>\n",
       "      <th>7705</th>\n",
       "      <th>7708</th>\n",
       "      <th>7711</th>\n",
       "      <th>7715</th>\n",
       "      <th>7719</th>\n",
       "      <th>7720</th>\n",
       "      <th>7726</th>\n",
       "      <th>7728</th>\n",
       "    </tr>\n",
       "    <tr>\n",
       "      <th>cohort_day</th>\n",
       "      <th></th>\n",
       "      <th></th>\n",
       "      <th></th>\n",
       "      <th></th>\n",
       "      <th></th>\n",
       "      <th></th>\n",
       "      <th></th>\n",
       "      <th></th>\n",
       "      <th></th>\n",
       "      <th></th>\n",
       "      <th></th>\n",
       "      <th></th>\n",
       "      <th></th>\n",
       "      <th></th>\n",
       "      <th></th>\n",
       "      <th></th>\n",
       "      <th></th>\n",
       "      <th></th>\n",
       "      <th></th>\n",
       "      <th></th>\n",
       "      <th></th>\n",
       "    </tr>\n",
       "  </thead>\n",
       "  <tbody>\n",
       "    <tr>\n",
       "      <th>1998-11-18</th>\n",
       "      <td>1.0</td>\n",
       "      <td>0.000000</td>\n",
       "      <td>0.000000</td>\n",
       "      <td>0.000000</td>\n",
       "      <td>0.000000</td>\n",
       "      <td>0.0</td>\n",
       "      <td>0.0</td>\n",
       "      <td>0.0</td>\n",
       "      <td>0.0</td>\n",
       "      <td>0.0</td>\n",
       "      <td>...</td>\n",
       "      <td>0.0</td>\n",
       "      <td>0.0</td>\n",
       "      <td>0.0</td>\n",
       "      <td>0.0</td>\n",
       "      <td>0.0</td>\n",
       "      <td>0.0</td>\n",
       "      <td>0.0</td>\n",
       "      <td>0.0</td>\n",
       "      <td>0.0</td>\n",
       "      <td>0.0</td>\n",
       "    </tr>\n",
       "    <tr>\n",
       "      <th>1999-07-22</th>\n",
       "      <td>1.0</td>\n",
       "      <td>0.000000</td>\n",
       "      <td>1.000000</td>\n",
       "      <td>0.000000</td>\n",
       "      <td>0.000000</td>\n",
       "      <td>0.0</td>\n",
       "      <td>0.0</td>\n",
       "      <td>0.0</td>\n",
       "      <td>1.0</td>\n",
       "      <td>0.0</td>\n",
       "      <td>...</td>\n",
       "      <td>1.0</td>\n",
       "      <td>1.0</td>\n",
       "      <td>1.0</td>\n",
       "      <td>1.0</td>\n",
       "      <td>1.0</td>\n",
       "      <td>1.0</td>\n",
       "      <td>1.0</td>\n",
       "      <td>1.0</td>\n",
       "      <td>1.0</td>\n",
       "      <td>1.0</td>\n",
       "    </tr>\n",
       "    <tr>\n",
       "      <th>2000-01-13</th>\n",
       "      <td>1.0</td>\n",
       "      <td>0.000000</td>\n",
       "      <td>0.000000</td>\n",
       "      <td>0.000000</td>\n",
       "      <td>0.000000</td>\n",
       "      <td>0.0</td>\n",
       "      <td>0.0</td>\n",
       "      <td>0.0</td>\n",
       "      <td>0.0</td>\n",
       "      <td>0.0</td>\n",
       "      <td>...</td>\n",
       "      <td>0.0</td>\n",
       "      <td>0.0</td>\n",
       "      <td>0.0</td>\n",
       "      <td>0.0</td>\n",
       "      <td>0.0</td>\n",
       "      <td>0.0</td>\n",
       "      <td>0.0</td>\n",
       "      <td>0.0</td>\n",
       "      <td>0.0</td>\n",
       "      <td>0.0</td>\n",
       "    </tr>\n",
       "    <tr>\n",
       "      <th>2000-05-28</th>\n",
       "      <td>1.0</td>\n",
       "      <td>0.000000</td>\n",
       "      <td>0.000000</td>\n",
       "      <td>0.000000</td>\n",
       "      <td>0.000000</td>\n",
       "      <td>0.0</td>\n",
       "      <td>0.0</td>\n",
       "      <td>0.0</td>\n",
       "      <td>0.0</td>\n",
       "      <td>0.0</td>\n",
       "      <td>...</td>\n",
       "      <td>0.0</td>\n",
       "      <td>0.0</td>\n",
       "      <td>0.0</td>\n",
       "      <td>0.0</td>\n",
       "      <td>0.0</td>\n",
       "      <td>0.0</td>\n",
       "      <td>0.0</td>\n",
       "      <td>0.0</td>\n",
       "      <td>0.0</td>\n",
       "      <td>0.0</td>\n",
       "    </tr>\n",
       "    <tr>\n",
       "      <th>2000-09-16</th>\n",
       "      <td>1.0</td>\n",
       "      <td>0.000000</td>\n",
       "      <td>0.000000</td>\n",
       "      <td>0.000000</td>\n",
       "      <td>0.000000</td>\n",
       "      <td>0.0</td>\n",
       "      <td>0.0</td>\n",
       "      <td>0.0</td>\n",
       "      <td>0.0</td>\n",
       "      <td>0.0</td>\n",
       "      <td>...</td>\n",
       "      <td>0.0</td>\n",
       "      <td>0.0</td>\n",
       "      <td>0.0</td>\n",
       "      <td>0.0</td>\n",
       "      <td>0.0</td>\n",
       "      <td>0.0</td>\n",
       "      <td>0.0</td>\n",
       "      <td>0.0</td>\n",
       "      <td>0.0</td>\n",
       "      <td>0.0</td>\n",
       "    </tr>\n",
       "    <tr>\n",
       "      <th>...</th>\n",
       "      <td>...</td>\n",
       "      <td>...</td>\n",
       "      <td>...</td>\n",
       "      <td>...</td>\n",
       "      <td>...</td>\n",
       "      <td>...</td>\n",
       "      <td>...</td>\n",
       "      <td>...</td>\n",
       "      <td>...</td>\n",
       "      <td>...</td>\n",
       "      <td>...</td>\n",
       "      <td>...</td>\n",
       "      <td>...</td>\n",
       "      <td>...</td>\n",
       "      <td>...</td>\n",
       "      <td>...</td>\n",
       "      <td>...</td>\n",
       "      <td>...</td>\n",
       "      <td>...</td>\n",
       "      <td>...</td>\n",
       "      <td>...</td>\n",
       "    </tr>\n",
       "    <tr>\n",
       "      <th>2020-09-19</th>\n",
       "      <td>1.0</td>\n",
       "      <td>0.037944</td>\n",
       "      <td>0.037332</td>\n",
       "      <td>0.047736</td>\n",
       "      <td>0.012852</td>\n",
       "      <td>0.0</td>\n",
       "      <td>0.0</td>\n",
       "      <td>0.0</td>\n",
       "      <td>0.0</td>\n",
       "      <td>0.0</td>\n",
       "      <td>...</td>\n",
       "      <td>0.0</td>\n",
       "      <td>0.0</td>\n",
       "      <td>0.0</td>\n",
       "      <td>0.0</td>\n",
       "      <td>0.0</td>\n",
       "      <td>0.0</td>\n",
       "      <td>0.0</td>\n",
       "      <td>0.0</td>\n",
       "      <td>0.0</td>\n",
       "      <td>0.0</td>\n",
       "    </tr>\n",
       "    <tr>\n",
       "      <th>2020-09-20</th>\n",
       "      <td>1.0</td>\n",
       "      <td>0.043399</td>\n",
       "      <td>0.037286</td>\n",
       "      <td>0.011002</td>\n",
       "      <td>0.000000</td>\n",
       "      <td>0.0</td>\n",
       "      <td>0.0</td>\n",
       "      <td>0.0</td>\n",
       "      <td>0.0</td>\n",
       "      <td>0.0</td>\n",
       "      <td>...</td>\n",
       "      <td>0.0</td>\n",
       "      <td>0.0</td>\n",
       "      <td>0.0</td>\n",
       "      <td>0.0</td>\n",
       "      <td>0.0</td>\n",
       "      <td>0.0</td>\n",
       "      <td>0.0</td>\n",
       "      <td>0.0</td>\n",
       "      <td>0.0</td>\n",
       "      <td>0.0</td>\n",
       "    </tr>\n",
       "    <tr>\n",
       "      <th>2020-09-21</th>\n",
       "      <td>1.0</td>\n",
       "      <td>0.041514</td>\n",
       "      <td>0.007326</td>\n",
       "      <td>0.000000</td>\n",
       "      <td>0.000000</td>\n",
       "      <td>0.0</td>\n",
       "      <td>0.0</td>\n",
       "      <td>0.0</td>\n",
       "      <td>0.0</td>\n",
       "      <td>0.0</td>\n",
       "      <td>...</td>\n",
       "      <td>0.0</td>\n",
       "      <td>0.0</td>\n",
       "      <td>0.0</td>\n",
       "      <td>0.0</td>\n",
       "      <td>0.0</td>\n",
       "      <td>0.0</td>\n",
       "      <td>0.0</td>\n",
       "      <td>0.0</td>\n",
       "      <td>0.0</td>\n",
       "      <td>0.0</td>\n",
       "    </tr>\n",
       "    <tr>\n",
       "      <th>2020-09-22</th>\n",
       "      <td>1.0</td>\n",
       "      <td>0.008531</td>\n",
       "      <td>0.000000</td>\n",
       "      <td>0.000000</td>\n",
       "      <td>0.000000</td>\n",
       "      <td>0.0</td>\n",
       "      <td>0.0</td>\n",
       "      <td>0.0</td>\n",
       "      <td>0.0</td>\n",
       "      <td>0.0</td>\n",
       "      <td>...</td>\n",
       "      <td>0.0</td>\n",
       "      <td>0.0</td>\n",
       "      <td>0.0</td>\n",
       "      <td>0.0</td>\n",
       "      <td>0.0</td>\n",
       "      <td>0.0</td>\n",
       "      <td>0.0</td>\n",
       "      <td>0.0</td>\n",
       "      <td>0.0</td>\n",
       "      <td>0.0</td>\n",
       "    </tr>\n",
       "    <tr>\n",
       "      <th>2020-09-23</th>\n",
       "      <td>1.0</td>\n",
       "      <td>0.000000</td>\n",
       "      <td>0.000000</td>\n",
       "      <td>0.000000</td>\n",
       "      <td>0.000000</td>\n",
       "      <td>0.0</td>\n",
       "      <td>0.0</td>\n",
       "      <td>0.0</td>\n",
       "      <td>0.0</td>\n",
       "      <td>0.0</td>\n",
       "      <td>...</td>\n",
       "      <td>0.0</td>\n",
       "      <td>0.0</td>\n",
       "      <td>0.0</td>\n",
       "      <td>0.0</td>\n",
       "      <td>0.0</td>\n",
       "      <td>0.0</td>\n",
       "      <td>0.0</td>\n",
       "      <td>0.0</td>\n",
       "      <td>0.0</td>\n",
       "      <td>0.0</td>\n",
       "    </tr>\n",
       "  </tbody>\n",
       "</table>\n",
       "<p>5110 rows × 5916 columns</p>\n",
       "</div>"
      ],
      "text/plain": [
       "cohort_period  0         1         2         3         4     5     6     7     \\\n",
       "cohort_day                                                                      \n",
       "1998-11-18      1.0  0.000000  0.000000  0.000000  0.000000   0.0   0.0   0.0   \n",
       "1999-07-22      1.0  0.000000  1.000000  0.000000  0.000000   0.0   0.0   0.0   \n",
       "2000-01-13      1.0  0.000000  0.000000  0.000000  0.000000   0.0   0.0   0.0   \n",
       "2000-05-28      1.0  0.000000  0.000000  0.000000  0.000000   0.0   0.0   0.0   \n",
       "2000-09-16      1.0  0.000000  0.000000  0.000000  0.000000   0.0   0.0   0.0   \n",
       "...             ...       ...       ...       ...       ...   ...   ...   ...   \n",
       "2020-09-19      1.0  0.037944  0.037332  0.047736  0.012852   0.0   0.0   0.0   \n",
       "2020-09-20      1.0  0.043399  0.037286  0.011002  0.000000   0.0   0.0   0.0   \n",
       "2020-09-21      1.0  0.041514  0.007326  0.000000  0.000000   0.0   0.0   0.0   \n",
       "2020-09-22      1.0  0.008531  0.000000  0.000000  0.000000   0.0   0.0   0.0   \n",
       "2020-09-23      1.0  0.000000  0.000000  0.000000  0.000000   0.0   0.0   0.0   \n",
       "\n",
       "cohort_period  8     9     ...  7700  7703  7705  7708  7711  7715  7719  \\\n",
       "cohort_day                 ...                                             \n",
       "1998-11-18      0.0   0.0  ...   0.0   0.0   0.0   0.0   0.0   0.0   0.0   \n",
       "1999-07-22      1.0   0.0  ...   1.0   1.0   1.0   1.0   1.0   1.0   1.0   \n",
       "2000-01-13      0.0   0.0  ...   0.0   0.0   0.0   0.0   0.0   0.0   0.0   \n",
       "2000-05-28      0.0   0.0  ...   0.0   0.0   0.0   0.0   0.0   0.0   0.0   \n",
       "2000-09-16      0.0   0.0  ...   0.0   0.0   0.0   0.0   0.0   0.0   0.0   \n",
       "...             ...   ...  ...   ...   ...   ...   ...   ...   ...   ...   \n",
       "2020-09-19      0.0   0.0  ...   0.0   0.0   0.0   0.0   0.0   0.0   0.0   \n",
       "2020-09-20      0.0   0.0  ...   0.0   0.0   0.0   0.0   0.0   0.0   0.0   \n",
       "2020-09-21      0.0   0.0  ...   0.0   0.0   0.0   0.0   0.0   0.0   0.0   \n",
       "2020-09-22      0.0   0.0  ...   0.0   0.0   0.0   0.0   0.0   0.0   0.0   \n",
       "2020-09-23      0.0   0.0  ...   0.0   0.0   0.0   0.0   0.0   0.0   0.0   \n",
       "\n",
       "cohort_period  7720  7726  7728  \n",
       "cohort_day                       \n",
       "1998-11-18      0.0   0.0   0.0  \n",
       "1999-07-22      1.0   1.0   1.0  \n",
       "2000-01-13      0.0   0.0   0.0  \n",
       "2000-05-28      0.0   0.0   0.0  \n",
       "2000-09-16      0.0   0.0   0.0  \n",
       "...             ...   ...   ...  \n",
       "2020-09-19      0.0   0.0   0.0  \n",
       "2020-09-20      0.0   0.0   0.0  \n",
       "2020-09-21      0.0   0.0   0.0  \n",
       "2020-09-22      0.0   0.0   0.0  \n",
       "2020-09-23      0.0   0.0   0.0  \n",
       "\n",
       "[5110 rows x 5916 columns]"
      ]
     },
     "execution_count": 18,
     "metadata": {},
     "output_type": "execute_result"
    }
   ],
   "source": [
    "retention()"
   ]
  },
  {
   "cell_type": "markdown",
   "metadata": {},
   "source": [
    "## Задание 2"
   ]
  },
  {
   "cell_type": "markdown",
   "metadata": {},
   "source": [
    "#### Необходимо найти лучший набор акционных предложений и определить какие метрики стоит проанализировать для принятия правильного решения и как. Для этого даны результаты A/B теста, в котором двум группам пользователей предлагались различные наборы акционных предложений. Известно, что ARPU в тестовой группе выше на 5%, чем в контрольной. При этом в контрольной группе 1928 игроков из 202103 оказались платящими, а в тестовой – 1805 из 202667."
   ]
  },
  {
   "cell_type": "code",
   "execution_count": 19,
   "metadata": {},
   "outputs": [
    {
     "name": "stdout",
     "output_type": "stream",
     "text": [
      "Файл успешно загружен и сохранен как 'downloaded_file.csv'.\n"
     ]
    }
   ],
   "source": [
    "#Сохраняем файл с яндекс диска\n",
    "base_url = 'https://cloud-api.yandex.net/v1/disk/public/resources/download?'\n",
    "public_key = 'https://disk.yandex.ru/d/SOkIsD5A8xlI7Q'  \n",
    "final_url = base_url + urlencode({'public_key': public_key})\n",
    "response = requests.get(final_url)\n",
    "\n",
    "# Проверяем, успешен ли запрос\n",
    "if response.status_code == 200:\n",
    "    download_url = response.json().get('href')\n",
    "    \n",
    "    # Загружаем файл и сохраняем его\n",
    "    download_response = requests.get(download_url)\n",
    "    if download_response.status_code == 200:\n",
    "        with open('downloaded_file.csv', 'wb') as f:\n",
    "            f.write(download_response.content)\n",
    "        print(\"Файл успешно загружен и сохранен как 'downloaded_file.csv'.\")\n",
    "    else:\n",
    "        print(f\"Ошибка при загрузке файла: {download_response.status_code} - {download_response.text}\")\n",
    "else:\n",
    "    print(f\"Ошибка при получении ссылки: {response.status_code} - {response.text}\")"
   ]
  },
  {
   "cell_type": "code",
   "execution_count": 20,
   "metadata": {},
   "outputs": [],
   "source": [
    "задание_2=pd.read_csv('downloaded_file.csv', sep=';')"
   ]
  },
  {
   "cell_type": "code",
   "execution_count": 21,
   "metadata": {},
   "outputs": [],
   "source": [
    "control=задание_2.query('testgroup==\"a\"')"
   ]
  },
  {
   "cell_type": "code",
   "execution_count": 22,
   "metadata": {},
   "outputs": [],
   "source": [
    "test=задание_2.query('testgroup==\"b\"')"
   ]
  },
  {
   "cell_type": "markdown",
   "metadata": {},
   "source": [
    "#### Для определения лучшего набора предложений необходимо проанализировать следующие метрики:  \n",
    "\n",
    "- ARPU. Отражает среднюю выручку на пользователя.\n",
    "\n",
    "- ARPPU. Отражает среднюю выручку на платящего пользователя.\n",
    "\n",
    "- Конверсия в оплату. Она показывает как много пользователей совершает покупку из всех пользователей, учавствовавших в эксперименте."
   ]
  },
  {
   "cell_type": "markdown",
   "metadata": {},
   "source": [
    "ARPU в контрольной группе:"
   ]
  },
  {
   "cell_type": "code",
   "execution_count": 23,
   "metadata": {},
   "outputs": [
    {
     "data": {
      "text/plain": [
       "25.41"
      ]
     },
     "execution_count": 23,
     "metadata": {},
     "output_type": "execute_result"
    }
   ],
   "source": [
    "(control.revenue.sum()/control.shape[0]).round(2)"
   ]
  },
  {
   "cell_type": "markdown",
   "metadata": {},
   "source": [
    "ARPU в тестовой группе:"
   ]
  },
  {
   "cell_type": "code",
   "execution_count": 24,
   "metadata": {},
   "outputs": [
    {
     "data": {
      "text/plain": [
       "26.75"
      ]
     },
     "execution_count": 24,
     "metadata": {},
     "output_type": "execute_result"
    }
   ],
   "source": [
    "(test.revenue.sum()/test.shape[0]).round(2)"
   ]
  },
  {
   "cell_type": "code",
   "execution_count": 25,
   "metadata": {},
   "outputs": [
    {
     "data": {
      "text/plain": [
       "0.05"
      ]
     },
     "execution_count": 25,
     "metadata": {},
     "output_type": "execute_result"
    }
   ],
   "source": [
    "((test.revenue.sum()/test.shape[0]).round(2) / (control.revenue.sum()/control.shape[0]).round(2) - 1).round(2)"
   ]
  },
  {
   "cell_type": "markdown",
   "metadata": {},
   "source": [
    "ARPU в тестовой группе выше на 5%, чем в контрольной. Определим, есть ли статистически значимая разница. Выборка достаточно большая, сравниваем средние, поэтому применим t-test."
   ]
  },
  {
   "cell_type": "code",
   "execution_count": 26,
   "metadata": {},
   "outputs": [
    {
     "data": {
      "text/plain": [
       "Ttest_indResult(statistic=0.6242026493616787, pvalue=0.532494858971837)"
      ]
     },
     "execution_count": 26,
     "metadata": {},
     "output_type": "execute_result"
    }
   ],
   "source": [
    "st.ttest_ind(test.revenue,control.revenue)"
   ]
  },
  {
   "cell_type": "markdown",
   "metadata": {},
   "source": [
    "P-value > 0.05, поэтому мы можем говорить об отсутствии статистически значимых различий в средней выручке на пользователя."
   ]
  },
  {
   "cell_type": "markdown",
   "metadata": {},
   "source": [
    "#### Рассчитаем ARPPU:"
   ]
  },
  {
   "cell_type": "markdown",
   "metadata": {},
   "source": [
    "ARPPU в контрольной группе:"
   ]
  },
  {
   "cell_type": "code",
   "execution_count": 27,
   "metadata": {},
   "outputs": [
    {
     "data": {
      "text/plain": [
       "2663.9984439834025"
      ]
     },
     "execution_count": 27,
     "metadata": {},
     "output_type": "execute_result"
    }
   ],
   "source": [
    "control.revenue.sum()/control.query('revenue!=0').shape[0]"
   ]
  },
  {
   "cell_type": "markdown",
   "metadata": {},
   "source": [
    "ARPPU в тестовой группе:"
   ]
  },
  {
   "cell_type": "code",
   "execution_count": 28,
   "metadata": {},
   "outputs": [
    {
     "data": {
      "text/plain": [
       "3003.6581717451522"
      ]
     },
     "execution_count": 28,
     "metadata": {},
     "output_type": "execute_result"
    }
   ],
   "source": [
    "test.revenue.sum() / test.query('revenue!=0').shape[0]"
   ]
  },
  {
   "cell_type": "code",
   "execution_count": 29,
   "metadata": {},
   "outputs": [
    {
     "data": {
      "text/plain": [
       "Ttest_indResult(statistic=1.5917100176862002, pvalue=0.11153459157259504)"
      ]
     },
     "execution_count": 29,
     "metadata": {},
     "output_type": "execute_result"
    }
   ],
   "source": [
    "st.ttest_ind(test.query('revenue > 0').revenue, control.query('revenue > 0').revenue)"
   ]
  },
  {
   "cell_type": "markdown",
   "metadata": {},
   "source": [
    "ARPPU в тестовой группе выше, чем в контрольной, но и платящих пользователей в тестовой группе меньше, p-value > 0.05, статистически значимые различия в средней выручке на платящего пользователя отсутствуют."
   ]
  },
  {
   "cell_type": "markdown",
   "metadata": {},
   "source": [
    "#### Рассчитаем конверсию в оплату"
   ]
  },
  {
   "cell_type": "code",
   "execution_count": 30,
   "metadata": {},
   "outputs": [],
   "source": [
    "задание_2['pay']=задание_2.revenue.apply(lambda x: 'yes' if x!=0 else 'no')"
   ]
  },
  {
   "cell_type": "markdown",
   "metadata": {},
   "source": [
    "Конверсия в оплату в контрольной группе:"
   ]
  },
  {
   "cell_type": "code",
   "execution_count": 31,
   "metadata": {},
   "outputs": [
    {
     "data": {
      "text/plain": [
       "no     99.05\n",
       "yes     0.95\n",
       "Name: pay, dtype: float64"
      ]
     },
     "execution_count": 31,
     "metadata": {},
     "output_type": "execute_result"
    }
   ],
   "source": [
    "задание_2.query('testgroup==\"a\"').pay.value_counts(normalize=True).mul(100).round(2)"
   ]
  },
  {
   "cell_type": "markdown",
   "metadata": {},
   "source": [
    "Конверсия в оплату в тестовой группе:"
   ]
  },
  {
   "cell_type": "code",
   "execution_count": 32,
   "metadata": {},
   "outputs": [
    {
     "data": {
      "text/plain": [
       "no     99.11\n",
       "yes     0.89\n",
       "Name: pay, dtype: float64"
      ]
     },
     "execution_count": 32,
     "metadata": {},
     "output_type": "execute_result"
    }
   ],
   "source": [
    "задание_2.query('testgroup==\"b\"').pay.value_counts(normalize=True).mul(100).round(2)"
   ]
  },
  {
   "cell_type": "markdown",
   "metadata": {},
   "source": [
    "Для определения статистически значимой разницы конверсии в оплату необходимо применить статистический критерий Хи-квадрат, так как у нас конверсия.  \n",
    "\n",
    "Н0: распределение оплат по группам равномерное  \n",
    "Н1: распределение неравномерное"
   ]
  },
  {
   "cell_type": "code",
   "execution_count": 35,
   "metadata": {},
   "outputs": [
    {
     "data": {
      "text/html": [
       "<div>\n",
       "<style scoped>\n",
       "    .dataframe tbody tr th:only-of-type {\n",
       "        vertical-align: middle;\n",
       "    }\n",
       "\n",
       "    .dataframe tbody tr th {\n",
       "        vertical-align: top;\n",
       "    }\n",
       "\n",
       "    .dataframe thead th {\n",
       "        text-align: right;\n",
       "    }\n",
       "</style>\n",
       "<table border=\"1\" class=\"dataframe\">\n",
       "  <thead>\n",
       "    <tr style=\"text-align: right;\">\n",
       "      <th>testgroup</th>\n",
       "      <th>a</th>\n",
       "      <th>b</th>\n",
       "    </tr>\n",
       "    <tr>\n",
       "      <th>pay</th>\n",
       "      <th></th>\n",
       "      <th></th>\n",
       "    </tr>\n",
       "  </thead>\n",
       "  <tbody>\n",
       "    <tr>\n",
       "      <th>no</th>\n",
       "      <td>200175</td>\n",
       "      <td>200862</td>\n",
       "    </tr>\n",
       "    <tr>\n",
       "      <th>yes</th>\n",
       "      <td>1928</td>\n",
       "      <td>1805</td>\n",
       "    </tr>\n",
       "  </tbody>\n",
       "</table>\n",
       "</div>"
      ],
      "text/plain": [
       "testgroup       a       b\n",
       "pay                      \n",
       "no         200175  200862\n",
       "yes          1928    1805"
      ]
     },
     "execution_count": 35,
     "metadata": {},
     "output_type": "execute_result"
    }
   ],
   "source": [
    "pd.crosstab(задание_2.pay, задание_2.testgroup)"
   ]
  },
  {
   "cell_type": "code",
   "execution_count": 36,
   "metadata": {},
   "outputs": [
    {
     "data": {
      "text/plain": [
       "(4.374729521260405,\n",
       " 0.03647561892312613,\n",
       " 1,\n",
       " array([[200239.10075104,   1863.89924896],\n",
       "        [200797.89924896,   1869.10075104]]))"
      ]
     },
     "execution_count": 36,
     "metadata": {},
     "output_type": "execute_result"
    }
   ],
   "source": [
    "st.chi2_contingency(pd.crosstab(задание_2.testgroup, задание_2.pay))"
   ]
  },
  {
   "cell_type": "markdown",
   "metadata": {},
   "source": [
    "##### Вывод:\n",
    "   P-value=0.036, что меньше уровня значимости 0.05. Это значит, что в распределении оплат имеются различия по группам. В ARPU B ARPPU двух групп статистически значимых различий нет, а конверсия в контрольной группе выше, можем говорить о том, что набор предложений  в контрольной группе можно считать лучшим."
   ]
  },
  {
   "cell_type": "markdown",
   "metadata": {},
   "source": [
    "## Задание 3"
   ]
  },
  {
   "cell_type": "markdown",
   "metadata": {},
   "source": [
    "#### Необходимо определить, с помощью каких метрик можно оценить результаты последнего прошедшего тематического события, в которых игроки могут получить уникальные предметы для сада и персонажей, дополнительные монеты или бонусы. Для получения награды требуется пройти ряд уровней за определенное время.\n",
    "#### Есть еще другое событие: нужно определить набор метрик, при условии, что при каждой неудачной попытке выполнения уровня игрок будет откатываться на несколько уровней назад. Изменится ли набор метрик оценки результата? Если да, то как?"
   ]
  },
  {
   "cell_type": "markdown",
   "metadata": {},
   "source": [
    "### Метрики, с помощью которых можно оценить результаты последнего прошедшего события:\n",
    "#### Метрики роста:\n",
    "- DAU - количество уникальных пользователей за сутки (вырастет при положительном результате)\n",
    "- Количество платящих пользователей. Если в игре за прохождение некоторых уровней необходимо платить, то количество платящих пользователей увеличится, что говорит о положительном результате прошедшего события.\n",
    "\n",
    "#### Метрики продукта:\n",
    "- Время сессии пользователя в игре. Увеличение длительности сессии ведет к росту вовлеченности пользователя и долгосрочным бизнес-результам.\n",
    "- Retention. Увеличится при положительном результате прошедшего события. Вернутся пользователи, которые не пользовались продуктом какое-то время, для того, чтобы получить награды, что также положительно повлияет на бизнес-результат.\n",
    "\n",
    "### Если при каждой неудачной попытке выполнения уровня игрок будет откатываться на несколько уровней назад, то набор метрик будет следующим:\n",
    "#### Метрики роста:\n",
    "- DAU\n",
    "- Количество платящих пользователей\n",
    "\n",
    "#### Метрики продукта:\n",
    "- Время сессии пользователя в игре\n",
    "- Конверсия в пользователя, не прошедшего уровень и следовательно откатившегося на несколько уровней назад (если таких пользователей много, то событие может привести к оттоку пользователей)\n",
    "- Churn rate - % оттока за определенное время (чтобы понять не спугнули ли пользователей такие условия события)"
   ]
  }
 ],
 "metadata": {
  "kernelspec": {
   "display_name": "Python 3",
   "language": "python",
   "name": "python3"
  },
  "language_info": {
   "codemirror_mode": {
    "name": "ipython",
    "version": 3
   },
   "file_extension": ".py",
   "mimetype": "text/x-python",
   "name": "python",
   "nbconvert_exporter": "python",
   "pygments_lexer": "ipython3",
   "version": "3.7.3"
  }
 },
 "nbformat": 4,
 "nbformat_minor": 4
}
